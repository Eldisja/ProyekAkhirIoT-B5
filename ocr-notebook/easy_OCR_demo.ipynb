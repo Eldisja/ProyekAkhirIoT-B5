{
  "cells": [
    {
      "cell_type": "code",
      "execution_count": 1,
      "metadata": {
        "colab": {
          "base_uri": "https://localhost:8080/"
        },
        "id": "hD8TRh0rCSmO",
        "outputId": "c60b9fe5-37e5-4833-fbcc-248ceb569807"
      },
      "outputs": [
        {
          "name": "stdout",
          "output_type": "stream",
          "text": [
            "Requirement already satisfied: easyocr in c:\\users\\alif5\\appdata\\local\\packages\\pythonsoftwarefoundation.python.3.10_qbz5n2kfra8p0\\localcache\\local-packages\\python310\\site-packages (1.7.1)\n",
            "Requirement already satisfied: torch in c:\\users\\alif5\\appdata\\local\\packages\\pythonsoftwarefoundation.python.3.10_qbz5n2kfra8p0\\localcache\\local-packages\\python310\\site-packages (from easyocr) (2.1.1)\n",
            "Requirement already satisfied: torchvision>=0.5 in c:\\users\\alif5\\appdata\\local\\packages\\pythonsoftwarefoundation.python.3.10_qbz5n2kfra8p0\\localcache\\local-packages\\python310\\site-packages (from easyocr) (0.16.1)\n",
            "Requirement already satisfied: opencv-python-headless in c:\\users\\alif5\\appdata\\local\\packages\\pythonsoftwarefoundation.python.3.10_qbz5n2kfra8p0\\localcache\\local-packages\\python310\\site-packages (from easyocr) (4.8.1.78)\n",
            "Requirement already satisfied: scipy in c:\\users\\alif5\\appdata\\local\\packages\\pythonsoftwarefoundation.python.3.10_qbz5n2kfra8p0\\localcache\\local-packages\\python310\\site-packages (from easyocr) (1.11.4)\n",
            "Requirement already satisfied: numpy in c:\\users\\alif5\\appdata\\local\\packages\\pythonsoftwarefoundation.python.3.10_qbz5n2kfra8p0\\localcache\\local-packages\\python310\\site-packages (from easyocr) (1.24.2)\n",
            "Requirement already satisfied: Pillow in c:\\users\\alif5\\appdata\\local\\packages\\pythonsoftwarefoundation.python.3.10_qbz5n2kfra8p0\\localcache\\local-packages\\python310\\site-packages (from easyocr) (9.4.0)\n",
            "Requirement already satisfied: scikit-image in c:\\users\\alif5\\appdata\\local\\packages\\pythonsoftwarefoundation.python.3.10_qbz5n2kfra8p0\\localcache\\local-packages\\python310\\site-packages (from easyocr) (0.22.0)\n",
            "Requirement already satisfied: python-bidi in c:\\users\\alif5\\appdata\\local\\packages\\pythonsoftwarefoundation.python.3.10_qbz5n2kfra8p0\\localcache\\local-packages\\python310\\site-packages (from easyocr) (0.4.2)\n",
            "Requirement already satisfied: PyYAML in c:\\users\\alif5\\appdata\\local\\packages\\pythonsoftwarefoundation.python.3.10_qbz5n2kfra8p0\\localcache\\local-packages\\python310\\site-packages (from easyocr) (6.0.1)\n",
            "Requirement already satisfied: Shapely in c:\\users\\alif5\\appdata\\local\\packages\\pythonsoftwarefoundation.python.3.10_qbz5n2kfra8p0\\localcache\\local-packages\\python310\\site-packages (from easyocr) (2.0.2)\n",
            "Requirement already satisfied: pyclipper in c:\\users\\alif5\\appdata\\local\\packages\\pythonsoftwarefoundation.python.3.10_qbz5n2kfra8p0\\localcache\\local-packages\\python310\\site-packages (from easyocr) (1.3.0.post5)\n",
            "Requirement already satisfied: ninja in c:\\users\\alif5\\appdata\\local\\packages\\pythonsoftwarefoundation.python.3.10_qbz5n2kfra8p0\\localcache\\local-packages\\python310\\site-packages (from easyocr) (1.11.1.1)\n",
            "Requirement already satisfied: requests in c:\\users\\alif5\\appdata\\local\\packages\\pythonsoftwarefoundation.python.3.10_qbz5n2kfra8p0\\localcache\\local-packages\\python310\\site-packages (from torchvision>=0.5->easyocr) (2.31.0)\n",
            "Requirement already satisfied: filelock in c:\\users\\alif5\\appdata\\local\\packages\\pythonsoftwarefoundation.python.3.10_qbz5n2kfra8p0\\localcache\\local-packages\\python310\\site-packages (from torch->easyocr) (3.13.1)\n",
            "Requirement already satisfied: typing-extensions in c:\\users\\alif5\\appdata\\local\\packages\\pythonsoftwarefoundation.python.3.10_qbz5n2kfra8p0\\localcache\\local-packages\\python310\\site-packages (from torch->easyocr) (4.8.0)\n",
            "Requirement already satisfied: sympy in c:\\users\\alif5\\appdata\\local\\packages\\pythonsoftwarefoundation.python.3.10_qbz5n2kfra8p0\\localcache\\local-packages\\python310\\site-packages (from torch->easyocr) (1.12)\n",
            "Requirement already satisfied: networkx in c:\\users\\alif5\\appdata\\local\\packages\\pythonsoftwarefoundation.python.3.10_qbz5n2kfra8p0\\localcache\\local-packages\\python310\\site-packages (from torch->easyocr) (3.2.1)\n",
            "Requirement already satisfied: jinja2 in c:\\users\\alif5\\appdata\\local\\packages\\pythonsoftwarefoundation.python.3.10_qbz5n2kfra8p0\\localcache\\local-packages\\python310\\site-packages (from torch->easyocr) (3.1.2)\n",
            "Requirement already satisfied: fsspec in c:\\users\\alif5\\appdata\\local\\packages\\pythonsoftwarefoundation.python.3.10_qbz5n2kfra8p0\\localcache\\local-packages\\python310\\site-packages (from torch->easyocr) (2023.12.1)\n",
            "Requirement already satisfied: six in c:\\users\\alif5\\appdata\\local\\packages\\pythonsoftwarefoundation.python.3.10_qbz5n2kfra8p0\\localcache\\local-packages\\python310\\site-packages (from python-bidi->easyocr) (1.16.0)\n",
            "Requirement already satisfied: imageio>=2.27 in c:\\users\\alif5\\appdata\\local\\packages\\pythonsoftwarefoundation.python.3.10_qbz5n2kfra8p0\\localcache\\local-packages\\python310\\site-packages (from scikit-image->easyocr) (2.33.0)\n",
            "Requirement already satisfied: tifffile>=2022.8.12 in c:\\users\\alif5\\appdata\\local\\packages\\pythonsoftwarefoundation.python.3.10_qbz5n2kfra8p0\\localcache\\local-packages\\python310\\site-packages (from scikit-image->easyocr) (2023.9.26)\n",
            "Requirement already satisfied: packaging>=21 in c:\\users\\alif5\\appdata\\local\\packages\\pythonsoftwarefoundation.python.3.10_qbz5n2kfra8p0\\localcache\\local-packages\\python310\\site-packages (from scikit-image->easyocr) (23.0)\n",
            "Requirement already satisfied: lazy_loader>=0.3 in c:\\users\\alif5\\appdata\\local\\packages\\pythonsoftwarefoundation.python.3.10_qbz5n2kfra8p0\\localcache\\local-packages\\python310\\site-packages (from scikit-image->easyocr) (0.3)\n",
            "Requirement already satisfied: MarkupSafe>=2.0 in c:\\users\\alif5\\appdata\\local\\packages\\pythonsoftwarefoundation.python.3.10_qbz5n2kfra8p0\\localcache\\local-packages\\python310\\site-packages (from jinja2->torch->easyocr) (2.1.3)\n",
            "Requirement already satisfied: charset-normalizer<4,>=2 in c:\\users\\alif5\\appdata\\local\\packages\\pythonsoftwarefoundation.python.3.10_qbz5n2kfra8p0\\localcache\\local-packages\\python310\\site-packages (from requests->torchvision>=0.5->easyocr) (3.1.0)\n",
            "Requirement already satisfied: idna<4,>=2.5 in c:\\users\\alif5\\appdata\\local\\packages\\pythonsoftwarefoundation.python.3.10_qbz5n2kfra8p0\\localcache\\local-packages\\python310\\site-packages (from requests->torchvision>=0.5->easyocr) (3.4)\n",
            "Requirement already satisfied: urllib3<3,>=1.21.1 in c:\\users\\alif5\\appdata\\local\\packages\\pythonsoftwarefoundation.python.3.10_qbz5n2kfra8p0\\localcache\\local-packages\\python310\\site-packages (from requests->torchvision>=0.5->easyocr) (1.26.14)\n",
            "Requirement already satisfied: certifi>=2017.4.17 in c:\\users\\alif5\\appdata\\local\\packages\\pythonsoftwarefoundation.python.3.10_qbz5n2kfra8p0\\localcache\\local-packages\\python310\\site-packages (from requests->torchvision>=0.5->easyocr) (2022.12.7)\n",
            "Requirement already satisfied: mpmath>=0.19 in c:\\users\\alif5\\appdata\\local\\packages\\pythonsoftwarefoundation.python.3.10_qbz5n2kfra8p0\\localcache\\local-packages\\python310\\site-packages (from sympy->torch->easyocr) (1.3.0)\n"
          ]
        }
      ],
      "source": [
        "%pip install easyocr"
      ]
    },
    {
      "cell_type": "code",
      "execution_count": 2,
      "metadata": {
        "id": "6wKgPU52CZ6K"
      },
      "outputs": [],
      "source": [
        "import matplotlib.pyplot as plt\n",
        "import cv2\n",
        "import easyocr\n",
        "from IPython.display import Image"
      ]
    },
    {
      "cell_type": "code",
      "execution_count": 7,
      "metadata": {
        "colab": {
          "base_uri": "https://localhost:8080/",
          "height": 65
        },
        "id": "hxBLiy0AChPp",
        "outputId": "6f8e0eb9-eeaf-4561-dd16-50689139a125"
      },
      "outputs": [
        {
          "data": {
            "image/jpeg": "[encoded data removed]",
            "text/plain": [
              "<IPython.core.display.Image object>"
            ]
          },
          "execution_count": 7,
          "metadata": {},
          "output_type": "execute_result"
        }
      ],
      "source": [
        "Image(\"../plates/scaned_img_0.jpg\")"
      ]
    },
    {
      "cell_type": "code",
      "execution_count": 8,
      "metadata": {
        "colab": {
          "base_uri": "https://localhost:8080/"
        },
        "id": "ZYD5fu4NCq2U",
        "outputId": "8a9390ef-9bad-443f-88d8-48411a496fc6"
      },
      "outputs": [
        {
          "name": "stderr",
          "output_type": "stream",
          "text": [
            "Neither CUDA nor MPS are available - defaulting to CPU. Note: This module is much faster with a GPU.\n"
          ]
        }
      ],
      "source": [
        "\n",
        "reader = easyocr.Reader(['en'])"
      ]
    },
    {
      "cell_type": "code",
      "execution_count": 12,
      "metadata": {
        "id": "ZCHP-450Cl9x"
      },
      "outputs": [],
      "source": [
        "\n",
        "output = reader.readtext('../plates/scaned_img_0.jpg')"
      ]
    },
    {
      "cell_type": "code",
      "execution_count": 13,
      "metadata": {
        "colab": {
          "base_uri": "https://localhost:8080/"
        },
        "id": "Ao44WMNJC_4R",
        "outputId": "4f9bc326-5f01-4871-9388-86c3726df528"
      },
      "outputs": [
        {
          "data": {
            "text/plain": [
              "[([[23, 11], [79, 11], [79, 29], [23, 29]], '13.954', 0.29980225827661616)]"
            ]
          },
          "execution_count": 13,
          "metadata": {},
          "output_type": "execute_result"
        }
      ],
      "source": [
        "output"
      ]
    },
    {
      "cell_type": "code",
      "execution_count": 36,
      "metadata": {
        "id": "SW8P4tA2DHKh"
      },
      "outputs": [
        {
          "name": "stdout",
          "output_type": "stream",
          "text": [
            "13.954\n"
          ]
        }
      ],
      "source": [
        "print(output[0][1])\n",
        "cord = output[-1][0]"
      ]
    },
    {
      "cell_type": "code",
      "execution_count": 16,
      "metadata": {
        "colab": {
          "base_uri": "https://localhost:8080/"
        },
        "id": "Vj08hYknEXnE",
        "outputId": "61c8259b-2140-49d4-95f1-0f24ea43e5ec"
      },
      "outputs": [
        {
          "data": {
            "text/plain": [
              "[[23, 11], [79, 11], [79, 29], [23, 29]]"
            ]
          },
          "execution_count": 16,
          "metadata": {},
          "output_type": "execute_result"
        }
      ],
      "source": [
        "cord"
      ]
    },
    {
      "cell_type": "code",
      "execution_count": 17,
      "metadata": {
        "colab": {
          "base_uri": "https://localhost:8080/"
        },
        "id": "3nXoyWdoEc2i",
        "outputId": "71c34b51-6ea6-4274-b6e8-e731cfe78afb"
      },
      "outputs": [
        {
          "data": {
            "text/plain": [
              "[(23, 79, 79, 23), (11, 11, 29, 29)]"
            ]
          },
          "execution_count": 17,
          "metadata": {},
          "output_type": "execute_result"
        }
      ],
      "source": [
        "a = list(zip(*cord))\n",
        "a"
      ]
    },
    {
      "cell_type": "code",
      "execution_count": 18,
      "metadata": {
        "colab": {
          "base_uri": "https://localhost:8080/"
        },
        "id": "-Talju53ExKb",
        "outputId": "678b4ff1-531c-46d6-ec2e-e6b209d0dc8e"
      },
      "outputs": [
        {
          "data": {
            "text/plain": [
              "23"
            ]
          },
          "execution_count": 18,
          "metadata": {},
          "output_type": "execute_result"
        }
      ],
      "source": [
        "min(a[0])"
      ]
    },
    {
      "cell_type": "code",
      "execution_count": 19,
      "metadata": {
        "colab": {
          "base_uri": "https://localhost:8080/"
        },
        "id": "sfDxg7_RE_PE",
        "outputId": "a71e2913-4f3a-40e4-bddc-fda5b0a15fe6"
      },
      "outputs": [
        {
          "data": {
            "text/plain": [
              "11"
            ]
          },
          "execution_count": 19,
          "metadata": {},
          "output_type": "execute_result"
        }
      ],
      "source": [
        "min(a[1])"
      ]
    },
    {
      "cell_type": "code",
      "execution_count": 20,
      "metadata": {
        "colab": {
          "base_uri": "https://localhost:8080/"
        },
        "id": "3SNxkER_FlKN",
        "outputId": "07c72bee-cd08-4f38-919f-8adc8866144e"
      },
      "outputs": [
        {
          "data": {
            "text/plain": [
              "79"
            ]
          },
          "execution_count": 20,
          "metadata": {},
          "output_type": "execute_result"
        }
      ],
      "source": [
        "max(a[0])"
      ]
    },
    {
      "cell_type": "code",
      "execution_count": 21,
      "metadata": {
        "colab": {
          "base_uri": "https://localhost:8080/"
        },
        "id": "Ra4nrXngFlM7",
        "outputId": "0c586331-1fc5-4b8b-a248-82b43ccdd837"
      },
      "outputs": [
        {
          "data": {
            "text/plain": [
              "29"
            ]
          },
          "execution_count": 21,
          "metadata": {},
          "output_type": "execute_result"
        }
      ],
      "source": [
        "max(a[1])"
      ]
    },
    {
      "cell_type": "code",
      "execution_count": 32,
      "metadata": {
        "id": "7zwP5q_zDKuh"
      },
      "outputs": [],
      "source": [
        "\n",
        "x_min, y_min = [int(min(idx)) for idx in zip(*cord)]"
      ]
    },
    {
      "cell_type": "code",
      "execution_count": 33,
      "metadata": {
        "colab": {
          "base_uri": "https://localhost:8080/"
        },
        "id": "RlZab6VGFWgz",
        "outputId": "53556660-74a8-4c92-966b-f63dba82ef41"
      },
      "outputs": [
        {
          "data": {
            "text/plain": [
              "(23, 11)"
            ]
          },
          "execution_count": 33,
          "metadata": {},
          "output_type": "execute_result"
        }
      ],
      "source": [
        "x_min, y_min"
      ]
    },
    {
      "cell_type": "code",
      "execution_count": 24,
      "metadata": {
        "id": "XSPxi2_RDMXJ"
      },
      "outputs": [],
      "source": [
        "\n",
        "x_max, y_max = [int(max(idx)) for idx in zip(*cord)]"
      ]
    },
    {
      "cell_type": "code",
      "execution_count": 25,
      "metadata": {
        "colab": {
          "base_uri": "https://localhost:8080/"
        },
        "id": "HPJwuE3-FgNk",
        "outputId": "0b7e84f1-177d-4a91-a5e7-bb83df9dbbb6"
      },
      "outputs": [
        {
          "data": {
            "text/plain": [
              "(79, 29)"
            ]
          },
          "execution_count": 25,
          "metadata": {},
          "output_type": "execute_result"
        }
      ],
      "source": [
        "x_max, y_max"
      ]
    },
    {
      "cell_type": "code",
      "execution_count": 26,
      "metadata": {
        "id": "NNGr7AzoD3xK"
      },
      "outputs": [],
      "source": [
        "from pylab import rcParams\n",
        "rcParams['figure.figsize'] = 20, 30"
      ]
    },
    {
      "cell_type": "code",
      "execution_count": 31,
      "metadata": {
        "colab": {
          "base_uri": "https://localhost:8080/",
          "height": 825
        },
        "id": "DSxNIGFGDNga",
        "outputId": "ed0de668-4fb3-4b71-af56-2942a58d15f0"
      },
      "outputs": [
        {
          "ename": "error",
          "evalue": "OpenCV(4.8.1) D:\\a\\opencv-python\\opencv-python\\opencv\\modules\\imgproc\\src\\color.cpp:182: error: (-215:Assertion failed) !_src.empty() in function 'cv::cvtColor'\n",
          "output_type": "error",
          "traceback": [
            "\u001b[1;31m---------------------------------------------------------------------------\u001b[0m",
            "\u001b[1;31merror\u001b[0m                                     Traceback (most recent call last)",
            "\u001b[1;32mc:\\Users\\alif5\\Documents\\Kuliah\\Semester 5\\IOT\\Finpro\\Car-Number-Plates-Detection-main\\ocr-notebook\\easy_OCR_demo.ipynb Cell 19\u001b[0m line \u001b[0;36m3\n\u001b[0;32m      <a href='vscode-notebook-cell:/c%3A/Users/alif5/Documents/Kuliah/Semester%205/IOT/Finpro/Car-Number-Plates-Detection-main/ocr-notebook/easy_OCR_demo.ipynb#X24sZmlsZQ%3D%3D?line=0'>1</a>\u001b[0m image \u001b[39m=\u001b[39m cv2\u001b[39m.\u001b[39mimread(\u001b[39m'\u001b[39m\u001b[39m../plates/scanned_img_0.jpg\u001b[39m\u001b[39m'\u001b[39m)\n\u001b[0;32m      <a href='vscode-notebook-cell:/c%3A/Users/alif5/Documents/Kuliah/Semester%205/IOT/Finpro/Car-Number-Plates-Detection-main/ocr-notebook/easy_OCR_demo.ipynb#X24sZmlsZQ%3D%3D?line=1'>2</a>\u001b[0m cv2\u001b[39m.\u001b[39mrectangle(image,(x_min,y_min),(x_max,y_max),(\u001b[39m0\u001b[39m,\u001b[39m0\u001b[39m,\u001b[39m255\u001b[39m),\u001b[39m2\u001b[39m)\n\u001b[1;32m----> <a href='vscode-notebook-cell:/c%3A/Users/alif5/Documents/Kuliah/Semester%205/IOT/Finpro/Car-Number-Plates-Detection-main/ocr-notebook/easy_OCR_demo.ipynb#X24sZmlsZQ%3D%3D?line=2'>3</a>\u001b[0m plt\u001b[39m.\u001b[39mimshow(cv2\u001b[39m.\u001b[39;49mcvtColor(image, cv2\u001b[39m.\u001b[39;49mCOLOR_BGR2RGB))\n",
            "\u001b[1;31merror\u001b[0m: OpenCV(4.8.1) D:\\a\\opencv-python\\opencv-python\\opencv\\modules\\imgproc\\src\\color.cpp:182: error: (-215:Assertion failed) !_src.empty() in function 'cv::cvtColor'\n"
          ]
        }
      ],
      "source": [
        "image = cv2.imread('../plates/scanned_img_0.jpg')\n",
        "cv2.rectangle(image,(x_min,y_min),(x_max,y_max),(0,0,255),2)\n",
        "plt.imshow(cv2.cvtColor(image, cv2.COLOR_BGR2RGB))"
      ]
    },
    {
      "cell_type": "code",
      "execution_count": null,
      "metadata": {
        "id": "4x7HEJ-dHzRp"
      },
      "outputs": [],
      "source": []
    }
  ],
  "metadata": {
    "accelerator": "GPU",
    "colab": {
      "provenance": []
    },
    "kernelspec": {
      "display_name": "Python 3",
      "name": "python3"
    },
    "language_info": {
      "codemirror_mode": {
        "name": "ipython",
        "version": 3
      },
      "file_extension": ".py",
      "mimetype": "text/x-python",
      "name": "python",
      "nbconvert_exporter": "python",
      "pygments_lexer": "ipython3",
      "version": "3.10.11"
    }
  },
  "nbformat": 4,
  "nbformat_minor": 0
}
